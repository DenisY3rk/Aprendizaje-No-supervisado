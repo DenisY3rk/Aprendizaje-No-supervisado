{
  "nbformat": 4,
  "nbformat_minor": 0,
  "metadata": {
    "colab": {
      "name": "ReducciondeDimensiones.ipynb",
      "provenance": [],
      "collapsed_sections": []
    },
    "kernelspec": {
      "name": "python3",
      "display_name": "Python 3"
    }
  },
  "cells": [
    {
      "cell_type": "markdown",
      "metadata": {
        "id": "ad-68ONE_Pa8"
      },
      "source": [
        "# Reducción de Dimensiones: El conjunto de datos de Iris a dos dimensiones."
      ]
    },
    {
      "cell_type": "markdown",
      "metadata": {
        "id": "kd8YmmJa_7ff"
      },
      "source": [
        "Importar las librerias pandas, numpy, matplotlib, sklearn y cargar el dataset de Iris."
      ]
    },
    {
      "cell_type": "code",
      "metadata": {
        "colab": {
          "base_uri": "https://localhost:8080/",
          "height": 197
        },
        "id": "zh89x3a4-_Wv",
        "outputId": "d40a75b6-e673-4d44-fddf-e26400b17548"
      },
      "source": [
        "import pandas as pd\r\n",
        "import numpy as np\r\n",
        "import matplotlib.pyplot as plt\r\n",
        "from sklearn.decomposition import PCA\r\n",
        "from sklearn.preprocessing import StandardScaler\r\n",
        "%matplotlib inline\r\n",
        "\r\n",
        "url = \"https://archive.ics.uci.edu/ml/machine-learning-databases/iris/iris.data\"\r\n",
        "\r\n",
        "\r\n",
        "df = pd.read_csv(url, names=['lng sepalo','anch sepalo','lng petalo','anch petalo','especie'])\r\n",
        "\r\n",
        "df.tail()"
      ],
      "execution_count": 1,
      "outputs": [
        {
          "output_type": "execute_result",
          "data": {
            "text/html": [
              "<div>\n",
              "<style scoped>\n",
              "    .dataframe tbody tr th:only-of-type {\n",
              "        vertical-align: middle;\n",
              "    }\n",
              "\n",
              "    .dataframe tbody tr th {\n",
              "        vertical-align: top;\n",
              "    }\n",
              "\n",
              "    .dataframe thead th {\n",
              "        text-align: right;\n",
              "    }\n",
              "</style>\n",
              "<table border=\"1\" class=\"dataframe\">\n",
              "  <thead>\n",
              "    <tr style=\"text-align: right;\">\n",
              "      <th></th>\n",
              "      <th>lng sepalo</th>\n",
              "      <th>anch sepalo</th>\n",
              "      <th>lng petalo</th>\n",
              "      <th>anch petalo</th>\n",
              "      <th>especie</th>\n",
              "    </tr>\n",
              "  </thead>\n",
              "  <tbody>\n",
              "    <tr>\n",
              "      <th>145</th>\n",
              "      <td>6.7</td>\n",
              "      <td>3.0</td>\n",
              "      <td>5.2</td>\n",
              "      <td>2.3</td>\n",
              "      <td>Iris-virginica</td>\n",
              "    </tr>\n",
              "    <tr>\n",
              "      <th>146</th>\n",
              "      <td>6.3</td>\n",
              "      <td>2.5</td>\n",
              "      <td>5.0</td>\n",
              "      <td>1.9</td>\n",
              "      <td>Iris-virginica</td>\n",
              "    </tr>\n",
              "    <tr>\n",
              "      <th>147</th>\n",
              "      <td>6.5</td>\n",
              "      <td>3.0</td>\n",
              "      <td>5.2</td>\n",
              "      <td>2.0</td>\n",
              "      <td>Iris-virginica</td>\n",
              "    </tr>\n",
              "    <tr>\n",
              "      <th>148</th>\n",
              "      <td>6.2</td>\n",
              "      <td>3.4</td>\n",
              "      <td>5.4</td>\n",
              "      <td>2.3</td>\n",
              "      <td>Iris-virginica</td>\n",
              "    </tr>\n",
              "    <tr>\n",
              "      <th>149</th>\n",
              "      <td>5.9</td>\n",
              "      <td>3.0</td>\n",
              "      <td>5.1</td>\n",
              "      <td>1.8</td>\n",
              "      <td>Iris-virginica</td>\n",
              "    </tr>\n",
              "  </tbody>\n",
              "</table>\n",
              "</div>"
            ],
            "text/plain": [
              "     lng sepalo  anch sepalo  lng petalo  anch petalo         especie\n",
              "145         6.7          3.0         5.2          2.3  Iris-virginica\n",
              "146         6.3          2.5         5.0          1.9  Iris-virginica\n",
              "147         6.5          3.0         5.2          2.0  Iris-virginica\n",
              "148         6.2          3.4         5.4          2.3  Iris-virginica\n",
              "149         5.9          3.0         5.1          1.8  Iris-virginica"
            ]
          },
          "metadata": {
            "tags": []
          },
          "execution_count": 1
        }
      ]
    },
    {
      "cell_type": "markdown",
      "metadata": {
        "id": "GCNxEI6SAEhA"
      },
      "source": [
        "Dividir el conjunto de datos en X y Y."
      ]
    },
    {
      "cell_type": "code",
      "metadata": {
        "id": "19M0nurNAJrn"
      },
      "source": [
        "# Se divide la matriz del dataset en dos partes\r\n",
        "\r\n",
        "X = df.iloc[:,0:4].values\r\n",
        "# la submatriz x contiene los valores de las primeras 4 columnas del dataframe y todas las filas\r\n",
        "\r\n",
        "y = df.iloc[:,4].values\r\n",
        "# El vector y contiene los valores de la 4 columna (especie)para todas las filas"
      ],
      "execution_count": 2,
      "outputs": []
    },
    {
      "cell_type": "markdown",
      "metadata": {
        "id": "sUAd_JdzAHYZ"
      },
      "source": [
        " Normalizar los datos"
      ]
    },
    {
      "cell_type": "code",
      "metadata": {
        "id": "fErjD_ouAQPX"
      },
      "source": [
        "#Aplicamos una transformación de los datos para poder aplicar las propiedades de la distribución normal\r\n",
        "\r\n",
        "from sklearn.preprocessing import StandardScaler\r\n",
        "X_std = StandardScaler().fit_transform(X)"
      ],
      "execution_count": 3,
      "outputs": []
    },
    {
      "cell_type": "markdown",
      "metadata": {
        "id": "mYEkd9wXATGT"
      },
      "source": [
        "Cálculo de autovectores y autovalores (eigenvector/eigenvalue)."
      ]
    },
    {
      "cell_type": "code",
      "metadata": {
        "colab": {
          "base_uri": "https://localhost:8080/"
        },
        "id": "tquky_N3AVJl",
        "outputId": "9441c757-616d-43b4-fb0d-d857e4ac49d0"
      },
      "source": [
        "# Calculamos la matriz de covarianza\r\n",
        "\r\n",
        "print('NumPy covariance matrix: \\n%s' %np.cov(X_std.T))"
      ],
      "execution_count": 4,
      "outputs": [
        {
          "output_type": "stream",
          "text": [
            "NumPy covariance matrix: \n",
            "[[ 1.00671141 -0.11010327  0.87760486  0.82344326]\n",
            " [-0.11010327  1.00671141 -0.42333835 -0.358937  ]\n",
            " [ 0.87760486 -0.42333835  1.00671141  0.96921855]\n",
            " [ 0.82344326 -0.358937    0.96921855  1.00671141]]\n"
          ],
          "name": "stdout"
        }
      ]
    },
    {
      "cell_type": "code",
      "metadata": {
        "colab": {
          "base_uri": "https://localhost:8080/"
        },
        "id": "zxuk4By0AXlT",
        "outputId": "a906e6bb-0d55-42d2-bc40-3fa6ecf7286f"
      },
      "source": [
        "#Calculamos los autovalores y autovectores de la matriz y los mostramos\r\n",
        "\r\n",
        "cov_mat = np.cov(X_std.T)\r\n",
        "\r\n",
        "eig_vals, eig_vecs = np.linalg.eig(cov_mat)\r\n",
        "\r\n",
        "print('Eigenvectors \\n%s' %eig_vecs)\r\n",
        "print('\\nEigenvalues \\n%s' %eig_vals)"
      ],
      "execution_count": 5,
      "outputs": [
        {
          "output_type": "stream",
          "text": [
            "Eigenvectors \n",
            "[[ 0.52237162 -0.37231836 -0.72101681  0.26199559]\n",
            " [-0.26335492 -0.92555649  0.24203288 -0.12413481]\n",
            " [ 0.58125401 -0.02109478  0.14089226 -0.80115427]\n",
            " [ 0.56561105 -0.06541577  0.6338014   0.52354627]]\n",
            "\n",
            "Eigenvalues \n",
            "[2.93035378 0.92740362 0.14834223 0.02074601]\n"
          ],
          "name": "stdout"
        }
      ]
    },
    {
      "cell_type": "code",
      "metadata": {
        "colab": {
          "base_uri": "https://localhost:8080/"
        },
        "id": "zLSe3yzVAZsN",
        "outputId": "d333f7bc-2838-4340-a39b-be74ba2d1e09"
      },
      "source": [
        "#  Hacemos una lista de parejas (autovector, autovalor) \r\n",
        "eig_pairs = [(np.abs(eig_vals[i]), eig_vecs[:,i]) for i in range(len(eig_vals))]\r\n",
        "\r\n",
        "# Ordenamos estas parejas den orden descendiente con la función sort\r\n",
        "eig_pairs.sort(key=lambda x: x[0], reverse=True)\r\n",
        "\r\n",
        "# Visualizamos la lista de autovalores en orden desdenciente\r\n",
        "print('Autovalores en orden descendiente:')\r\n",
        "for i in eig_pairs:\r\n",
        "    print(i[0])"
      ],
      "execution_count": 6,
      "outputs": [
        {
          "output_type": "stream",
          "text": [
            "Autovalores en orden descendiente:\n",
            "2.930353775589317\n",
            "0.9274036215173428\n",
            "0.14834222648163967\n",
            "0.020746013995595967\n"
          ],
          "name": "stdout"
        }
      ]
    },
    {
      "cell_type": "markdown",
      "metadata": {
        "id": "uyIG7580Af8w"
      },
      "source": [
        "Paso 04: Seleccionamos los los autovectores correspondientes a las componentes principales"
      ]
    },
    {
      "cell_type": "code",
      "metadata": {
        "colab": {
          "base_uri": "https://localhost:8080/",
          "height": 296
        },
        "id": "PCC0X5g2AbtO",
        "outputId": "963ed2c5-5035-428c-ca6d-dbe7bc818296"
      },
      "source": [
        "# A partir de los autovalores, calculamos la varianza explicada\r\n",
        "tot = sum(eig_vals)\r\n",
        "var_exp = [(i / tot)*100 for i in sorted(eig_vals, reverse=True)]\r\n",
        "cum_var_exp = np.cumsum(var_exp)\r\n",
        "\r\n",
        "# Representamos en un diagrama de barras la varianza explicada por cada autovalor, y la acumulada\r\n",
        "with plt.style.context('seaborn-pastel'):\r\n",
        "    plt.figure(figsize=(6, 4))\r\n",
        "\r\n",
        "    plt.bar(range(4), var_exp, alpha=0.5, align='center',\r\n",
        "            label='Varianza individual explicada', color='blue')\r\n",
        "    plt.step(range(4), cum_var_exp, where='mid', linestyle='--', label='Varianza explicada acumulada')\r\n",
        "    plt.ylabel('Ratio de Varianza Explicada')\r\n",
        "    plt.xlabel('Componentes Principales')\r\n",
        "    plt.legend(loc='best')\r\n",
        "    plt.tight_layout()"
      ],
      "execution_count": 7,
      "outputs": [
        {
          "output_type": "display_data",
          "data": {
            "image/png": "[encoded data removed]",
            "text/plain": [
              "<Figure size 432x288 with 1 Axes>"
            ]
          },
          "metadata": {
            "tags": [],
            "needs_background": "light"
          }
        }
      ]
    },
    {
      "cell_type": "markdown",
      "metadata": {
        "id": "w2GsK9YXAmK4"
      },
      "source": [
        "Paso 05: Proyectamos los datos sobre un espacio de dimensionalidad menor."
      ]
    },
    {
      "cell_type": "code",
      "metadata": {
        "colab": {
          "base_uri": "https://localhost:8080/"
        },
        "id": "xA25H_ZXAna8",
        "outputId": "0f7a787d-7cb1-4f02-aa8f-4aca94a6f7d5"
      },
      "source": [
        "#Generamos la matríz a partir de los pares autovalor-autovector\r\n",
        "matrix_w = np.hstack((eig_pairs[0][1].reshape(4,1),\r\n",
        "                      eig_pairs[1][1].reshape(4,1)))\r\n",
        "\r\n",
        "print('Matriz W:\\n', matrix_w)\r\n",
        "\r\n",
        "Y = X_std.dot(matrix_w)"
      ],
      "execution_count": 8,
      "outputs": [
        {
          "output_type": "stream",
          "text": [
            "Matriz W:\n",
            " [[ 0.52237162 -0.37231836]\n",
            " [-0.26335492 -0.92555649]\n",
            " [ 0.58125401 -0.02109478]\n",
            " [ 0.56561105 -0.06541577]]\n"
          ],
          "name": "stdout"
        }
      ]
    },
    {
      "cell_type": "code",
      "metadata": {
        "colab": {
          "base_uri": "https://localhost:8080/",
          "height": 296
        },
        "id": "G0jQr1DTAp1C",
        "outputId": "cba45f2e-b889-4eeb-a117-4a3ec7cd8a4d"
      },
      "source": [
        "with plt.style.context('seaborn-whitegrid'):\r\n",
        "    plt.figure(figsize=(6, 4))\r\n",
        "    for lab, col in zip(('Iris-setosa', 'Iris-versicolor', 'Iris-virginica'),\r\n",
        "                        ('red', 'yellow', 'limegreen')):\r\n",
        "        plt.scatter(Y[y==lab, 0],\r\n",
        "                    Y[y==lab, 1],\r\n",
        "                    label=lab,\r\n",
        "                    c=col)\r\n",
        "    plt.xlabel('Componente Principal 1')\r\n",
        "    plt.ylabel('Componente Principal 2')\r\n",
        "    plt.legend(loc='lower center')\r\n",
        "    plt.tight_layout()\r\n",
        "    plt.show()"
      ],
      "execution_count": 9,
      "outputs": [
        {
          "output_type": "display_data",
          "data": {
            "image/png": "[encoded data removed]",
            "text/plain": [
              "<Figure size 432x288 with 1 Axes>"
            ]
          },
          "metadata": {
            "tags": []
          }
        }
      ]
    },
    {
      "cell_type": "markdown",
      "metadata": {
        "id": "F8rR7_ucAsNw"
      },
      "source": [
        "Se logro reducir el conjunto de datos de trabajo inicial a un conjunto de datos de dos dimensiones que aún así conserva la información más esencial, de tal manera que nos resultará mucho más sencillo el trabajo de crear un modelo de clasificación a partir de estos datos."
      ]
    }
  ]
}