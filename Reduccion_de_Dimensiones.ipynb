{
  "nbformat": 4,
  "nbformat_minor": 0,
  "metadata": {
    "colab": {
      "name": "Reduccion de Dimensiones.ipynb",
      "provenance": [],
      "collapsed_sections": []
    },
    "kernelspec": {
      "name": "python3",
      "display_name": "Python 3"
    }
  },
  "cells": [
    {
      "cell_type": "code",
      "metadata": {
        "id": "if1BEQ_C3yOC"
      },
      "source": [
        "import pandas as pd\r\n",
        "import matplotlib.pyplot as plt\r\n",
        "import seaborn as sns\r\n",
        "import re\r\n",
        "import numpy as np\r\n",
        "from sklearn import tree\r\n",
        "from sklearn.model_selection import train_test_split\r\n",
        "%matplotlib inline\r\n",
        "sns.set()"
      ],
      "execution_count": 1,
      "outputs": []
    },
    {
      "cell_type": "code",
      "metadata": {
        "colab": {
          "base_uri": "https://localhost:8080/"
        },
        "id": "pAtstf7k4BZ6",
        "outputId": "5a6a96bd-5f76-46b4-de9f-ae024919e0ad"
      },
      "source": [
        "print('Hola bebe, I need your love')"
      ],
      "execution_count": 2,
      "outputs": [
        {
          "output_type": "stream",
          "text": [
            "Hola bebe, I need your love\n"
          ],
          "name": "stdout"
        }
      ]
    }
  ]
}